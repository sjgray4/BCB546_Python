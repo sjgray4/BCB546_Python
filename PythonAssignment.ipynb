{
 "cells": [
  {
   "cell_type": "code",
   "execution_count": 12,
   "id": "73ccb2f5",
   "metadata": {},
   "outputs": [
    {
     "name": "stdout",
     "output_type": "stream",
     "text": [
      "Requirement already satisfied: Bio in c:\\users\\sirsm\\anaconda3\\lib\\site-packages (1.3.8)\n",
      "Requirement already satisfied: tqdm in c:\\users\\sirsm\\anaconda3\\lib\\site-packages (from Bio) (4.62.3)\n",
      "Requirement already satisfied: requests in c:\\users\\sirsm\\anaconda3\\lib\\site-packages (from Bio) (2.26.0)\n",
      "Requirement already satisfied: mygene in c:\\users\\sirsm\\anaconda3\\lib\\site-packages (from Bio) (3.2.2)\n",
      "Requirement already satisfied: biopython>=1.79 in c:\\users\\sirsm\\anaconda3\\lib\\site-packages (from Bio) (1.79)\n",
      "Requirement already satisfied: numpy in c:\\users\\sirsm\\anaconda3\\lib\\site-packages (from biopython>=1.79->Bio) (1.20.3)\n",
      "Requirement already satisfied: biothings-client>=0.2.6 in c:\\users\\sirsm\\anaconda3\\lib\\site-packages (from mygene->Bio) (0.2.6)\n",
      "Requirement already satisfied: certifi>=2017.4.17 in c:\\users\\sirsm\\anaconda3\\lib\\site-packages (from requests->Bio) (2021.10.8)\n",
      "Requirement already satisfied: charset-normalizer~=2.0.0 in c:\\users\\sirsm\\anaconda3\\lib\\site-packages (from requests->Bio) (2.0.4)\n",
      "Requirement already satisfied: idna<4,>=2.5 in c:\\users\\sirsm\\anaconda3\\lib\\site-packages (from requests->Bio) (3.2)\n",
      "Requirement already satisfied: urllib3<1.27,>=1.21.1 in c:\\users\\sirsm\\anaconda3\\lib\\site-packages (from requests->Bio) (1.26.7)\n",
      "Requirement already satisfied: colorama in c:\\users\\sirsm\\anaconda3\\lib\\site-packages (from tqdm->Bio) (0.4.4)\n",
      "Note: you may need to restart the kernel to use updated packages.\n"
     ]
    }
   ],
   "source": [
    "pip install Bio"
   ]
  },
  {
   "cell_type": "code",
   "execution_count": 728,
   "id": "110b31ad",
   "metadata": {},
   "outputs": [],
   "source": [
    "import Bio"
   ]
  },
  {
   "cell_type": "code",
   "execution_count": 729,
   "id": "704088d0",
   "metadata": {},
   "outputs": [],
   "source": [
    "from Bio.Seq import Seq"
   ]
  },
  {
   "cell_type": "code",
   "execution_count": 730,
   "id": "a6a16980",
   "metadata": {},
   "outputs": [],
   "source": [
    "from Bio import SeqIO"
   ]
  },
  {
   "cell_type": "code",
   "execution_count": 780,
   "id": "9546a5a7",
   "metadata": {},
   "outputs": [],
   "source": [
    "import pandas as pd"
   ]
  },
  {
   "cell_type": "code",
   "execution_count": 732,
   "id": "9ee91e93",
   "metadata": {},
   "outputs": [],
   "source": [
    "from Bio.Data import CodonTable"
   ]
  },
  {
   "cell_type": "markdown",
   "id": "83cd3398",
   "metadata": {},
   "source": [
    "1) Documenting Dr.X's function to retrieve sequences "
   ]
  },
  {
   "cell_type": "code",
   "execution_count": 733,
   "id": "b17f26ec",
   "metadata": {},
   "outputs": [],
   "source": [
    "#Setting up sequence function from Dr.X \n",
    "def get_sequences_from_file(fasta_fn):\n",
    "    sequence_data_dict = {}\n",
    "    for record in SeqIO.parse(\"Fasfa_Python.txt\", \"fasta\"):\n",
    "        description = record.description.split()\n",
    "        species_name = description[1] + \" \" + description[2]\n",
    "        sequence_data_dict[species_name] = record.seq\n",
    "    return(sequence_data_dict)"
   ]
  },
  {
   "cell_type": "code",
   "execution_count": 734,
   "id": "efec05d4",
   "metadata": {},
   "outputs": [
    {
     "data": {
      "text/plain": [
       "{'Aptenodytes forsteri': Seq('ATGGCCCCAAATCTCCGAAAATCCCATCCCCTCCTAAAAATAATTAATAACTCC...TAA'),\n",
       " 'Aptenodytes patagonicus': Seq('ATGGCCCCAAACCTCCGAAAATCCCATCCTCTCCTAAAAATAATTAATAACTCC...TAA'),\n",
       " 'Eudyptes chrysocome': Seq('ATGGCCCCCAACCTCCGAAAATCCCACCCCCTCCTAAAAACAATCAATAACTCC...TAA'),\n",
       " 'Eudyptes chrysolophus': Seq('ATGGCCCCCAACCTCCGAAAATCCCACCCCCTCCTAAAAACAATCAATAACTCC...TAA'),\n",
       " 'Eudyptes sclateri': Seq('ATGGCCCCCAACCTCCGAAAATCCCACCCCCTCCTAAAAACAATCAATAACTCC...TAA'),\n",
       " 'Eudyptula minor': Seq('ATGGCCCCCAACCTCCGAAAATCTCACCCCCTCCTAAAAATAATCAACAACTCT...TAA'),\n",
       " 'Pygoscelis adeliae': Seq('ATGGCCCCCAACCTCCGAAAATCCCACCCTCTCCTAAAAATAATTAACAACTCC...TAA'),\n",
       " 'Pygoscelis antarctica': Seq('ATGGCCCCCAACCTCCGAAAATCCCACCCTCTCCTAAAAATAATCAACAACTCC...TAG'),\n",
       " 'Pygoscelis papua': Seq('ATGGCCCCCAACCTTCGAAAATCCCACCCTCTCCTAAAAATAATCAACAAATCC...TAG'),\n",
       " 'Spheniscus demersus': Seq('ATGGCCCCCAACCTCCGAAAATCCCACCCTCTCCTAAAAACAATCAACAACTCC...TAA'),\n",
       " 'Spheniscus humboldti': Seq('ATGGCCCCCAACCTCCGAAAATCCCACCCTCTCCTAAAAACAATCAACAACTCC...TAA'),\n",
       " 'Spheniscus magellanicus': Seq('ATGGCCCCCAACCTCCGAAAATCCCACCCTCTCCTAAAAACAATCAACAACTCC...TAA')}"
      ]
     },
     "execution_count": 734,
     "metadata": {},
     "output_type": "execute_result"
    }
   ],
   "source": [
    "#Checking OutPut \n",
    "get_sequences_from_file(\"Fasfa_Python.txt\")"
   ]
  },
  {
   "cell_type": "markdown",
   "id": "d24e2425",
   "metadata": {},
   "source": [
    "2) Creating function for translation of DNA sequences in fasta file"
   ]
  },
  {
   "cell_type": "code",
   "execution_count": 735,
   "id": "725a902b",
   "metadata": {},
   "outputs": [
    {
     "name": "stdout",
     "output_type": "stream",
     "text": [
      "Table 2 Vertebrate Mitochondrial, SGC1\n",
      "\n",
      "  |  T      |  C      |  A      |  G      |\n",
      "--+---------+---------+---------+---------+--\n",
      "T | TTT F   | TCT S   | TAT Y   | TGT C   | T\n",
      "T | TTC F   | TCC S   | TAC Y   | TGC C   | C\n",
      "T | TTA L   | TCA S   | TAA Stop| TGA W   | A\n",
      "T | TTG L   | TCG S   | TAG Stop| TGG W   | G\n",
      "--+---------+---------+---------+---------+--\n",
      "C | CTT L   | CCT P   | CAT H   | CGT R   | T\n",
      "C | CTC L   | CCC P   | CAC H   | CGC R   | C\n",
      "C | CTA L   | CCA P   | CAA Q   | CGA R   | A\n",
      "C | CTG L   | CCG P   | CAG Q   | CGG R   | G\n",
      "--+---------+---------+---------+---------+--\n",
      "A | ATT I(s)| ACT T   | AAT N   | AGT S   | T\n",
      "A | ATC I(s)| ACC T   | AAC N   | AGC S   | C\n",
      "A | ATA M(s)| ACA T   | AAA K   | AGA Stop| A\n",
      "A | ATG M(s)| ACG T   | AAG K   | AGG Stop| G\n",
      "--+---------+---------+---------+---------+--\n",
      "G | GTT V   | GCT A   | GAT D   | GGT G   | T\n",
      "G | GTC V   | GCC A   | GAC D   | GGC G   | C\n",
      "G | GTA V   | GCA A   | GAA E   | GGA G   | A\n",
      "G | GTG V(s)| GCG A   | GAG E   | GGG G   | G\n",
      "--+---------+---------+---------+---------+--\n"
     ]
    }
   ],
   "source": [
    "#Checking to ensure Mito table works \n",
    "from Bio.Data import CodonTable\n",
    "mito_table=CodonTable.unambiguous_dna_by_id[2]\n",
    "print(mito_table)"
   ]
  },
  {
   "cell_type": "code",
   "execution_count": 736,
   "id": "3b54e89d",
   "metadata": {},
   "outputs": [],
   "source": [
    "#Writing Function to Translate DNA Sequence from Fasta file to Amino Acids \n",
    "\n",
    "def translate_dna(string_nucleotides):\n",
    "    mito_table = CodonTable.unambiguous_dna_by_id[2]\n",
    "    aa_seq_string= \"\"\n",
    "    aa= \"\"\n",
    "    for i in range(0, len(string_nucleotides),3):\n",
    "        codon=string_nucleotides[i:i+3]\n",
    "        if codon not in mito_table.stop_codons:\n",
    "            aa=mito_table.forward_table[codon]\n",
    "            aa_seq_string += aa\n",
    "    else:\n",
    "        return(aa_seq_string)\n",
    "    "
   ]
  },
  {
   "cell_type": "code",
   "execution_count": 737,
   "id": "054f4c71",
   "metadata": {},
   "outputs": [
    {
     "name": "stdout",
     "output_type": "stream",
     "text": [
      "MAPNLRKSHPLLKMINNSLIDLPTPSNISAWWNFGSLLGICLTTQILTGLLLAMHYTADTTLAFSSIAHTCRDVQYGWLIRNMHANGASLLFICIYLHIGRGVYDGSYLHKETWNTGVILLLTLMATAFVGYVLPWGQMSFWGATVITNLFSAIPYIGQTIVEWAWGGFSVDNPTLTRFFALHFLLPFMITGLTLIHLTFLHESGSNNPLGIVANSDKIPFHPYYSTKDILGFTLMLLPLTTLALFSPNLLGDPENFTPANPLVTPPHIKPEWYFLFAYAILRSIPNKLGGVLALAASVLVLFLSPLLHKSKQRTMAFRPLSQLLFWTLVANLLILTWIGSQPVEHPFIIIGQLASTTYFIILLILFPITSALENKMLNF\n"
     ]
    }
   ],
   "source": [
    "#Checking \"translate_dna\" function created above \n",
    "seq_dat=get_sequences_from_file(\"Fasfa.Python.txt\")[\"Pygoscelis antarctica\"]\n",
    "aa_seq=translate_dna(seq_dat)\n",
    "print(aa_seq)"
   ]
  },
  {
   "cell_type": "markdown",
   "id": "2c71da52",
   "metadata": {},
   "source": [
    "3) Improving translation function using the translation function from biopython "
   ]
  },
  {
   "cell_type": "code",
   "execution_count": 738,
   "id": "33aecd58",
   "metadata": {},
   "outputs": [],
   "source": [
    "def translate_redo(seq_dat):\n",
    "    seq_dat_2=Seq(seq_dat)\n",
    "    aa_seq= seq_dat_2.translate(mito_table, to_stop=True)\n",
    "    return(aa_seq)\n",
    "    \n",
    "    "
   ]
  },
  {
   "cell_type": "code",
   "execution_count": 739,
   "id": "97fa267f",
   "metadata": {},
   "outputs": [],
   "source": [
    "seq_dat_test= get_sequences_from_file(\"Fasfa_Python.txt\")[\"Spheniscus humboldti\"]\n",
    "aa_seq1=translate_redo(seq_dat_test)"
   ]
  },
  {
   "cell_type": "markdown",
   "id": "353881e8",
   "metadata": {},
   "source": [
    "4) Creating Amino Acid Count function using ProtPram "
   ]
  },
  {
   "cell_type": "code",
   "execution_count": 784,
   "id": "57524da2",
   "metadata": {},
   "outputs": [],
   "source": [
    "#ProtoParam Function for Molecular Weight of amino acid sequence \n",
    "from Bio.SeqUtils import ProtParam\n",
    "from Bio.SeqUtils import molecular_weight\n",
    "def molecular_weight(aa_seq):\n",
    "    analysed_seq=ProteinAnalysis(aa_seq)\n",
    "    molecular_weight=analysed_seq.molecular_weight()\n",
    "    return(molecular_weight)\n",
    "    "
   ]
  },
  {
   "cell_type": "code",
   "execution_count": 741,
   "id": "5615a643",
   "metadata": {},
   "outputs": [
    {
     "data": {
      "text/plain": [
       "42399.55200000001"
      ]
     },
     "execution_count": 741,
     "metadata": {},
     "output_type": "execute_result"
    }
   ],
   "source": [
    "aa_seq1=str(aa_seq1)\n",
    "molecular_weight(aa_seq1)"
   ]
  },
  {
   "cell_type": "markdown",
   "id": "4c898736",
   "metadata": {},
   "source": [
    "5) Creating GC Content function \n"
   ]
  },
  {
   "cell_type": "code",
   "execution_count": 742,
   "id": "e42a6cea",
   "metadata": {},
   "outputs": [],
   "source": [
    "#Define function For GC Content \n",
    "from Bio.Seq import Seq\n",
    "from Bio.SeqUtils import GC\n",
    "def GC_Content(seq_dat):\n",
    "    my_seq=seq_dat\n",
    "    gc_percent= 100*float(my_seq.count(\"G\")+my_seq.count(\"C\"))/len(my_seq)\n",
    "    return(gc_percent)\n",
    "    "
   ]
  },
  {
   "cell_type": "code",
   "execution_count": 653,
   "id": "8c1398e4",
   "metadata": {},
   "outputs": [
    {
     "name": "stdout",
     "output_type": "stream",
     "text": [
      "49.25634295713036\n"
     ]
    }
   ],
   "source": [
    "GC=GC_Content(seq_dat)\n",
    "print(GC)"
   ]
  },
  {
   "cell_type": "markdown",
   "id": "183534d5",
   "metadata": {},
   "source": [
    "Penguin Data Set: Importing CSV File"
   ]
  },
  {
   "cell_type": "code",
   "execution_count": 654,
   "id": "67e29c45",
   "metadata": {},
   "outputs": [
    {
     "name": "stdout",
     "output_type": "stream",
     "text": [
      "{'Aptenodytes forsteri': Seq('ATGGCCCCAAATCTCCGAAAATCCCATCCCCTCCTAAAAATAATTAATAACTCC...TAA'), 'Aptenodytes patagonicus': Seq('ATGGCCCCAAACCTCCGAAAATCCCATCCTCTCCTAAAAATAATTAATAACTCC...TAA'), 'Eudyptes chrysocome': Seq('ATGGCCCCCAACCTCCGAAAATCCCACCCCCTCCTAAAAACAATCAATAACTCC...TAA'), 'Eudyptes chrysolophus': Seq('ATGGCCCCCAACCTCCGAAAATCCCACCCCCTCCTAAAAACAATCAATAACTCC...TAA'), 'Eudyptes sclateri': Seq('ATGGCCCCCAACCTCCGAAAATCCCACCCCCTCCTAAAAACAATCAATAACTCC...TAA'), 'Eudyptula minor': Seq('ATGGCCCCCAACCTCCGAAAATCTCACCCCCTCCTAAAAATAATCAACAACTCT...TAA'), 'Pygoscelis adeliae': Seq('ATGGCCCCCAACCTCCGAAAATCCCACCCTCTCCTAAAAATAATTAACAACTCC...TAA'), 'Pygoscelis antarctica': Seq('ATGGCCCCCAACCTCCGAAAATCCCACCCTCTCCTAAAAATAATCAACAACTCC...TAG'), 'Pygoscelis papua': Seq('ATGGCCCCCAACCTTCGAAAATCCCACCCTCTCCTAAAAATAATCAACAAATCC...TAG'), 'Spheniscus demersus': Seq('ATGGCCCCCAACCTCCGAAAATCCCACCCTCTCCTAAAAACAATCAACAACTCC...TAA'), 'Spheniscus humboldti': Seq('ATGGCCCCCAACCTCCGAAAATCCCACCCTCTCCTAAAAACAATCAACAACTCC...TAA'), 'Spheniscus magellanicus': Seq('ATGGCCCCCAACCTCCGAAAATCCCACCCTCTCCTAAAAACAATCAACAACTCC...TAA')}\n"
     ]
    }
   ],
   "source": [
    "cytb_seqs=get_sequences_from_file(\"Fasfa_Python.txt\")\n",
    "print(cytb_seqs)"
   ]
  },
  {
   "cell_type": "code",
   "execution_count": 448,
   "id": "1cb7b8af",
   "metadata": {},
   "outputs": [],
   "source": [
    "import pandas as pd"
   ]
  },
  {
   "cell_type": "code",
   "execution_count": 456,
   "id": "bd2eeaa5",
   "metadata": {},
   "outputs": [
    {
     "data": {
      "text/plain": [
       "['Aptenodytes forsteri',\n",
       " 'Aptenodytes patagonicus',\n",
       " 'Eudyptes chrysocome',\n",
       " 'Eudyptes chrysolophus',\n",
       " 'Eudyptes sclateri',\n",
       " 'Eudyptula minor',\n",
       " 'Pygoscelis adeliae',\n",
       " 'Pygoscelis antarctica',\n",
       " 'Pygoscelis papua',\n",
       " 'Spheniscus demersus',\n",
       " 'Spheniscus humboldti',\n",
       " 'Spheniscus magellanicus']"
      ]
     },
     "execution_count": 456,
     "metadata": {},
     "output_type": "execute_result"
    }
   ],
   "source": [
    "penguins_df=pd.read_csv(\"csv_python.txt\")\n",
    "species_list=list(penguins_df.species)\n",
    "species_list"
   ]
  },
  {
   "cell_type": "markdown",
   "id": "3f386678",
   "metadata": {},
   "source": [
    "6) Adding Columns and Adding NA values"
   ]
  },
  {
   "cell_type": "code",
   "execution_count": 758,
   "id": "c9c22f76",
   "metadata": {},
   "outputs": [
    {
     "data": {
      "text/html": [
       "<div>\n",
       "<style scoped>\n",
       "    .dataframe tbody tr th:only-of-type {\n",
       "        vertical-align: middle;\n",
       "    }\n",
       "\n",
       "    .dataframe tbody tr th {\n",
       "        vertical-align: top;\n",
       "    }\n",
       "\n",
       "    .dataframe thead th {\n",
       "        text-align: right;\n",
       "    }\n",
       "</style>\n",
       "<table border=\"1\" class=\"dataframe\">\n",
       "  <thead>\n",
       "    <tr style=\"text-align: right;\">\n",
       "      <th></th>\n",
       "      <th>species</th>\n",
       "      <th>mass</th>\n",
       "      <th>Molecular Weight</th>\n",
       "      <th>GC Content</th>\n",
       "    </tr>\n",
       "  </thead>\n",
       "  <tbody>\n",
       "    <tr>\n",
       "      <th>0</th>\n",
       "      <td>Aptenodytes forsteri</td>\n",
       "      <td>28.00</td>\n",
       "      <td>NAN</td>\n",
       "      <td>NAN</td>\n",
       "    </tr>\n",
       "    <tr>\n",
       "      <th>1</th>\n",
       "      <td>Aptenodytes patagonicus</td>\n",
       "      <td>13.40</td>\n",
       "      <td>NAN</td>\n",
       "      <td>NAN</td>\n",
       "    </tr>\n",
       "    <tr>\n",
       "      <th>2</th>\n",
       "      <td>Eudyptes chrysocome</td>\n",
       "      <td>2.80</td>\n",
       "      <td>NAN</td>\n",
       "      <td>NAN</td>\n",
       "    </tr>\n",
       "    <tr>\n",
       "      <th>3</th>\n",
       "      <td>Eudyptes chrysolophus</td>\n",
       "      <td>4.50</td>\n",
       "      <td>NAN</td>\n",
       "      <td>NAN</td>\n",
       "    </tr>\n",
       "    <tr>\n",
       "      <th>4</th>\n",
       "      <td>Eudyptes sclateri</td>\n",
       "      <td>4.25</td>\n",
       "      <td>NAN</td>\n",
       "      <td>NAN</td>\n",
       "    </tr>\n",
       "    <tr>\n",
       "      <th>5</th>\n",
       "      <td>Eudyptula minor</td>\n",
       "      <td>1.60</td>\n",
       "      <td>NAN</td>\n",
       "      <td>NAN</td>\n",
       "    </tr>\n",
       "    <tr>\n",
       "      <th>6</th>\n",
       "      <td>Pygoscelis adeliae</td>\n",
       "      <td>4.60</td>\n",
       "      <td>NAN</td>\n",
       "      <td>NAN</td>\n",
       "    </tr>\n",
       "    <tr>\n",
       "      <th>7</th>\n",
       "      <td>Pygoscelis antarctica</td>\n",
       "      <td>4.10</td>\n",
       "      <td>NAN</td>\n",
       "      <td>NAN</td>\n",
       "    </tr>\n",
       "    <tr>\n",
       "      <th>8</th>\n",
       "      <td>Pygoscelis papua</td>\n",
       "      <td>6.10</td>\n",
       "      <td>NAN</td>\n",
       "      <td>NAN</td>\n",
       "    </tr>\n",
       "    <tr>\n",
       "      <th>9</th>\n",
       "      <td>Spheniscus demersus</td>\n",
       "      <td>3.20</td>\n",
       "      <td>NAN</td>\n",
       "      <td>NAN</td>\n",
       "    </tr>\n",
       "    <tr>\n",
       "      <th>10</th>\n",
       "      <td>Spheniscus humboldti</td>\n",
       "      <td>4.75</td>\n",
       "      <td>NAN</td>\n",
       "      <td>NAN</td>\n",
       "    </tr>\n",
       "    <tr>\n",
       "      <th>11</th>\n",
       "      <td>Spheniscus magellanicus</td>\n",
       "      <td>3.40</td>\n",
       "      <td>NAN</td>\n",
       "      <td>NAN</td>\n",
       "    </tr>\n",
       "  </tbody>\n",
       "</table>\n",
       "</div>"
      ],
      "text/plain": [
       "                    species   mass Molecular Weight GC Content\n",
       "0      Aptenodytes forsteri  28.00              NAN        NAN\n",
       "1   Aptenodytes patagonicus  13.40              NAN        NAN\n",
       "2       Eudyptes chrysocome   2.80              NAN        NAN\n",
       "3     Eudyptes chrysolophus   4.50              NAN        NAN\n",
       "4         Eudyptes sclateri   4.25              NAN        NAN\n",
       "5           Eudyptula minor   1.60              NAN        NAN\n",
       "6        Pygoscelis adeliae   4.60              NAN        NAN\n",
       "7     Pygoscelis antarctica   4.10              NAN        NAN\n",
       "8          Pygoscelis papua   6.10              NAN        NAN\n",
       "9       Spheniscus demersus   3.20              NAN        NAN\n",
       "10     Spheniscus humboldti   4.75              NAN        NAN\n",
       "11  Spheniscus magellanicus   3.40              NAN        NAN"
      ]
     },
     "execution_count": 758,
     "metadata": {},
     "output_type": "execute_result"
    }
   ],
   "source": [
    "penguins_df[\"Molecular Weight\"]=\"NAN\"\n",
    "penguins_df[\"GC Content\"]= \"NAN\"\n",
    "penguins_df"
   ]
  },
  {
   "cell_type": "markdown",
   "id": "0adfdf16",
   "metadata": {},
   "source": [
    "7) Writing For Loop to Translate, and Add Molecular Weight and GC content to CSV"
   ]
  },
  {
   "cell_type": "code",
   "execution_count": 778,
   "id": "97496ab7",
   "metadata": {},
   "outputs": [
    {
     "data": {
      "text/plain": [
       "dict_items([('Aptenodytes forsteri', Seq('ATGGCCCCAAATCTCCGAAAATCCCATCCCCTCCTAAAAATAATTAATAACTCC...TAA')), ('Aptenodytes patagonicus', Seq('ATGGCCCCAAACCTCCGAAAATCCCATCCTCTCCTAAAAATAATTAATAACTCC...TAA')), ('Eudyptes chrysocome', Seq('ATGGCCCCCAACCTCCGAAAATCCCACCCCCTCCTAAAAACAATCAATAACTCC...TAA')), ('Eudyptes chrysolophus', Seq('ATGGCCCCCAACCTCCGAAAATCCCACCCCCTCCTAAAAACAATCAATAACTCC...TAA')), ('Eudyptes sclateri', Seq('ATGGCCCCCAACCTCCGAAAATCCCACCCCCTCCTAAAAACAATCAATAACTCC...TAA')), ('Eudyptula minor', Seq('ATGGCCCCCAACCTCCGAAAATCTCACCCCCTCCTAAAAATAATCAACAACTCT...TAA')), ('Pygoscelis adeliae', Seq('ATGGCCCCCAACCTCCGAAAATCCCACCCTCTCCTAAAAATAATTAACAACTCC...TAA')), ('Pygoscelis antarctica', Seq('ATGGCCCCCAACCTCCGAAAATCCCACCCTCTCCTAAAAATAATCAACAACTCC...TAG')), ('Pygoscelis papua', Seq('ATGGCCCCCAACCTTCGAAAATCCCACCCTCTCCTAAAAATAATCAACAAATCC...TAG')), ('Spheniscus demersus', Seq('ATGGCCCCCAACCTCCGAAAATCCCACCCTCTCCTAAAAACAATCAACAACTCC...TAA')), ('Spheniscus humboldti', Seq('ATGGCCCCCAACCTCCGAAAATCCCACCCTCTCCTAAAAACAATCAACAACTCC...TAA')), ('Spheniscus magellanicus', Seq('ATGGCCCCCAACCTCCGAAAATCCCACCCTCTCCTAAAAACAATCAACAACTCC...TAA'))])"
      ]
     },
     "execution_count": 778,
     "metadata": {},
     "output_type": "execute_result"
    }
   ],
   "source": [
    "#Checking Output\n",
    "cytb_seqs.items()"
   ]
  },
  {
   "cell_type": "code",
   "execution_count": 791,
   "id": "9b4d2be1",
   "metadata": {},
   "outputs": [
    {
     "data": {
      "text/html": [
       "<div>\n",
       "<style scoped>\n",
       "    .dataframe tbody tr th:only-of-type {\n",
       "        vertical-align: middle;\n",
       "    }\n",
       "\n",
       "    .dataframe tbody tr th {\n",
       "        vertical-align: top;\n",
       "    }\n",
       "\n",
       "    .dataframe thead th {\n",
       "        text-align: right;\n",
       "    }\n",
       "</style>\n",
       "<table border=\"1\" class=\"dataframe\">\n",
       "  <thead>\n",
       "    <tr style=\"text-align: right;\">\n",
       "      <th></th>\n",
       "      <th>species</th>\n",
       "      <th>mass</th>\n",
       "      <th>Molecular Weight</th>\n",
       "      <th>GC Content</th>\n",
       "    </tr>\n",
       "  </thead>\n",
       "  <tbody>\n",
       "    <tr>\n",
       "      <th>0</th>\n",
       "      <td>Aptenodytes forsteri</td>\n",
       "      <td>28.00</td>\n",
       "      <td>42459.6021</td>\n",
       "      <td>48.381452</td>\n",
       "    </tr>\n",
       "    <tr>\n",
       "      <th>1</th>\n",
       "      <td>Aptenodytes patagonicus</td>\n",
       "      <td>13.40</td>\n",
       "      <td>42563.7067</td>\n",
       "      <td>49.693788</td>\n",
       "    </tr>\n",
       "    <tr>\n",
       "      <th>2</th>\n",
       "      <td>Eudyptes chrysocome</td>\n",
       "      <td>2.80</td>\n",
       "      <td>42475.5753</td>\n",
       "      <td>51.181102</td>\n",
       "    </tr>\n",
       "    <tr>\n",
       "      <th>3</th>\n",
       "      <td>Eudyptes chrysolophus</td>\n",
       "      <td>4.50</td>\n",
       "      <td>42445.5493</td>\n",
       "      <td>50.918635</td>\n",
       "    </tr>\n",
       "    <tr>\n",
       "      <th>4</th>\n",
       "      <td>Eudyptes sclateri</td>\n",
       "      <td>4.25</td>\n",
       "      <td>42475.5753</td>\n",
       "      <td>50.831146</td>\n",
       "    </tr>\n",
       "    <tr>\n",
       "      <th>5</th>\n",
       "      <td>Eudyptula minor</td>\n",
       "      <td>1.60</td>\n",
       "      <td>42491.6408</td>\n",
       "      <td>49.256343</td>\n",
       "    </tr>\n",
       "    <tr>\n",
       "      <th>6</th>\n",
       "      <td>Pygoscelis adeliae</td>\n",
       "      <td>4.60</td>\n",
       "      <td>42458.614</td>\n",
       "      <td>49.081365</td>\n",
       "    </tr>\n",
       "    <tr>\n",
       "      <th>7</th>\n",
       "      <td>Pygoscelis antarctica</td>\n",
       "      <td>4.10</td>\n",
       "      <td>42404.5423</td>\n",
       "      <td>47.769029</td>\n",
       "    </tr>\n",
       "    <tr>\n",
       "      <th>8</th>\n",
       "      <td>Pygoscelis papua</td>\n",
       "      <td>6.10</td>\n",
       "      <td>42595.8759</td>\n",
       "      <td>47.156605</td>\n",
       "    </tr>\n",
       "    <tr>\n",
       "      <th>9</th>\n",
       "      <td>Spheniscus demersus</td>\n",
       "      <td>3.20</td>\n",
       "      <td>42431.549</td>\n",
       "      <td>48.293963</td>\n",
       "    </tr>\n",
       "    <tr>\n",
       "      <th>10</th>\n",
       "      <td>Spheniscus humboldti</td>\n",
       "      <td>4.75</td>\n",
       "      <td>42399.552</td>\n",
       "      <td>49.256343</td>\n",
       "    </tr>\n",
       "    <tr>\n",
       "      <th>11</th>\n",
       "      <td>Spheniscus magellanicus</td>\n",
       "      <td>3.40</td>\n",
       "      <td>42459.6021</td>\n",
       "      <td>48.206474</td>\n",
       "    </tr>\n",
       "  </tbody>\n",
       "</table>\n",
       "</div>"
      ],
      "text/plain": [
       "                    species   mass Molecular Weight GC Content\n",
       "0      Aptenodytes forsteri  28.00       42459.6021  48.381452\n",
       "1   Aptenodytes patagonicus  13.40       42563.7067  49.693788\n",
       "2       Eudyptes chrysocome   2.80       42475.5753  51.181102\n",
       "3     Eudyptes chrysolophus   4.50       42445.5493  50.918635\n",
       "4         Eudyptes sclateri   4.25       42475.5753  50.831146\n",
       "5           Eudyptula minor   1.60       42491.6408  49.256343\n",
       "6        Pygoscelis adeliae   4.60        42458.614  49.081365\n",
       "7     Pygoscelis antarctica   4.10       42404.5423  47.769029\n",
       "8          Pygoscelis papua   6.10       42595.8759  47.156605\n",
       "9       Spheniscus demersus   3.20        42431.549  48.293963\n",
       "10     Spheniscus humboldti   4.75        42399.552  49.256343\n",
       "11  Spheniscus magellanicus   3.40       42459.6021  48.206474"
      ]
     },
     "execution_count": 791,
     "metadata": {},
     "output_type": "execute_result"
    }
   ],
   "source": [
    "row=0\n",
    "for key, value in cytb_seqs.items():\n",
    "    aa_seq=translate_dna(str(value))\n",
    "    molecular_weight_1=molecular_weight(aa_seq)\n",
    "    GC_content=GC_Content(str(value))\n",
    "    penguins_df.at[row, \"Molecular Weight\"]= molecular_weight_1\n",
    "    penguins_df.at[row,\"GC Content\"]= GC_content\n",
    "    row+=1\n",
    "penguins_df\n",
    "    "
   ]
  },
  {
   "cell_type": "markdown",
   "id": "9f204376",
   "metadata": {},
   "source": [
    "8) Drawing BarPlot with Species and Mass \n",
    "Q1) smallest penguin is Eudyptula Minor\n"
   ]
  },
  {
   "cell_type": "code",
   "execution_count": 797,
   "id": "c3857b7c",
   "metadata": {},
   "outputs": [],
   "source": [
    "import matplotlib\n",
    "import matplotlib.pyplot as plt\n",
    "import pandas as pd"
   ]
  },
  {
   "cell_type": "code",
   "execution_count": 810,
   "id": "33a87521",
   "metadata": {},
   "outputs": [
    {
     "data": {
      "text/plain": [
       "([0, 1, 2, 3, 4, 5, 6, 7, 8, 9, 10, 11],\n",
       " [Text(0, 0, ''),\n",
       "  Text(0, 0, ''),\n",
       "  Text(0, 0, ''),\n",
       "  Text(0, 0, ''),\n",
       "  Text(0, 0, ''),\n",
       "  Text(0, 0, ''),\n",
       "  Text(0, 0, ''),\n",
       "  Text(0, 0, ''),\n",
       "  Text(0, 0, ''),\n",
       "  Text(0, 0, ''),\n",
       "  Text(0, 0, ''),\n",
       "  Text(0, 0, '')])"
      ]
     },
     "execution_count": 810,
     "metadata": {},
     "output_type": "execute_result"
    },
    {
     "data": {
      "image/png": "[encoded data removed]",
      "text/plain": [
       "<Figure size 432x288 with 1 Axes>"
      ]
     },
     "metadata": {
      "needs_background": "light"
     },
     "output_type": "display_data"
    }
   ],
   "source": [
    "plt.bar(x=penguins_df[\"species\"],\n",
    "       height=penguins_df[\"mass\"], width=0.6)\n",
    "plt.xticks(rotation=45)"
   ]
  },
  {
   "cell_type": "markdown",
   "id": "db0cda36",
   "metadata": {},
   "source": [
    "9) Scatter Plot of Molecular Weight and GC Content"
   ]
  },
  {
   "cell_type": "code",
   "execution_count": 812,
   "id": "d28179d0",
   "metadata": {},
   "outputs": [
    {
     "data": {
      "text/plain": [
       "<matplotlib.collections.PathCollection at 0x25764bc0e50>"
      ]
     },
     "execution_count": 812,
     "metadata": {},
     "output_type": "execute_result"
    },
    {
     "data": {
      "image/png": "[encoded data removed]",
      "text/plain": [
       "<Figure size 432x288 with 1 Axes>"
      ]
     },
     "metadata": {
      "needs_background": "light"
     },
     "output_type": "display_data"
    }
   ],
   "source": [
    "plt.scatter(\"GC Content\" ,\"Molecular Weight\", data=penguins_df)"
   ]
  },
  {
   "cell_type": "markdown",
   "id": "f31f9156",
   "metadata": {},
   "source": [
    "10) Saving DataFrame "
   ]
  },
  {
   "cell_type": "code",
   "execution_count": 815,
   "id": "54b8ee78",
   "metadata": {},
   "outputs": [],
   "source": [
    "penguins_df.to_csv(\"penguins_df_update.csv\", index=False, encoding=\"utf-8\")"
   ]
  }
 ],
 "metadata": {
  "kernelspec": {
   "display_name": "Python 3 (ipykernel)",
   "language": "python",
   "name": "python3"
  },
  "language_info": {
   "codemirror_mode": {
    "name": "ipython",
    "version": 3
   },
   "file_extension": ".py",
   "mimetype": "text/x-python",
   "name": "python",
   "nbconvert_exporter": "python",
   "pygments_lexer": "ipython3",
   "version": "3.9.7"
  }
 },
 "nbformat": 4,
 "nbformat_minor": 5
}
